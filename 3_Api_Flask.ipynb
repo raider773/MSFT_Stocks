{
 "cells": [
  {
   "cell_type": "code",
   "execution_count": 1,
   "metadata": {},
   "outputs": [],
   "source": [
    "import pandas as pd\n",
    "import numpy as np\n",
    "import json\n",
    "import pickle\n",
    "from flask import  Flask, request, jsonify, render_template\n",
    "from datetime import datetime"
   ]
  },
  {
   "cell_type": "code",
   "execution_count": 2,
   "metadata": {},
   "outputs": [],
   "source": [
    "app = Flask('Stocks_MSFT_Forecasting')"
   ]
  },
  {
   "cell_type": "code",
   "execution_count": 3,
   "metadata": {},
   "outputs": [],
   "source": [
    "@app.route('/api',methods=['POST'])\n",
    "def predict_Stock_Value():    \n",
    "    data = request.get_json(force=True)   \n",
    "    #transform string to datetime and put it in dataframe for prophet\n",
    "    \n",
    "    date_str = data['datetime'][0]\n",
    "    datetime_object = datetime.strptime(date_str, '%m/%d/%y')\n",
    "    df = pd.DataFrame([[datetime_object]], columns=['ds']) \n",
    "    \n",
    "   \n",
    "    #predict with prophet\n",
    "    with open('model_prophet.pkl', 'rb') as f_model:\n",
    "        modelo = pickle.load(f_model)       \n",
    "        \n",
    "        \n",
    "    prediction =  modelo.predict(df)  \n",
    "    result = str(round(prediction[\"yhat\"][0],2))       \n",
    "    return(result)\n",
    "   \n",
    "   "
   ]
  },
  {
   "cell_type": "code",
   "execution_count": null,
   "metadata": {},
   "outputs": [
    {
     "name": "stdout",
     "output_type": "stream",
     "text": [
      " * Serving Flask app \"Stocks_MSFT_Forecasting\" (lazy loading)\n",
      " * Environment: production\n",
      "   WARNING: This is a development server. Do not use it in a production deployment.\n",
      "   Use a production WSGI server instead.\n",
      " * Debug mode: off\n"
     ]
    },
    {
     "name": "stderr",
     "output_type": "stream",
     "text": [
      " * Running on http://0.0.0.0:5000/ (Press CTRL+C to quit)\n",
      "127.0.0.1 - - [03/Apr/2021 13:06:19] \"\u001b[37mPOST /api HTTP/1.1\u001b[0m\" 200 -\n",
      "INFO:werkzeug:127.0.0.1 - - [03/Apr/2021 13:06:19] \"\u001b[37mPOST /api HTTP/1.1\u001b[0m\" 200 -\n",
      "127.0.0.1 - - [03/Apr/2021 13:06:22] \"\u001b[37mPOST /api HTTP/1.1\u001b[0m\" 200 -\n",
      "INFO:werkzeug:127.0.0.1 - - [03/Apr/2021 13:06:22] \"\u001b[37mPOST /api HTTP/1.1\u001b[0m\" 200 -\n",
      "127.0.0.1 - - [03/Apr/2021 13:06:26] \"\u001b[37mPOST /api HTTP/1.1\u001b[0m\" 200 -\n",
      "INFO:werkzeug:127.0.0.1 - - [03/Apr/2021 13:06:26] \"\u001b[37mPOST /api HTTP/1.1\u001b[0m\" 200 -\n"
     ]
    }
   ],
   "source": [
    "app.run(host='0.0.0.0')"
   ]
  }
 ],
 "metadata": {
  "kernelspec": {
   "display_name": "Python 3",
   "language": "python",
   "name": "python3"
  },
  "language_info": {
   "codemirror_mode": {
    "name": "ipython",
    "version": 3
   },
   "file_extension": ".py",
   "mimetype": "text/x-python",
   "name": "python",
   "nbconvert_exporter": "python",
   "pygments_lexer": "ipython3",
   "version": "3.7.10"
  }
 },
 "nbformat": 4,
 "nbformat_minor": 4
}
